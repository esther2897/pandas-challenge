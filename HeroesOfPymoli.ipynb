{
 "cells": [
  {
   "cell_type": "code",
   "execution_count": null,
   "id": "480fc539",
   "metadata": {},
   "outputs": [],
   "source": []
  },
  {
   "cell_type": "code",
   "execution_count": null,
   "id": "8e611474",
   "metadata": {},
   "outputs": [],
   "source": [
    "# Dependencies and Setup\n",
    "import pandas as pd\n",
    "\n",
    "# File to Load (Remember to Change These)\n",
    "file_to_load = \"Resources/purchase_data.csv\"\n",
    "\n",
    "# Read Purchasing File and store into Pandas data frame\n",
    "purchase_data = pd.read_csv(file_to_load)"
   ]
  },
  {
   "cell_type": "code",
   "execution_count": null,
   "id": "10814aab",
   "metadata": {},
   "outputs": [],
   "source": [
    "unique_players = purchase_data[\"ID\"].value_counts()\n",
    "total_players = unique_players.count()\n",
    "member_count = pd.DataFrame({\"Total Players\":total_players})"
   ]
  },
  {
   "cell_type": "code",
   "execution_count": null,
   "id": "7e845422",
   "metadata": {},
   "outputs": [],
   "source": [
    "num_diff = purchase_data[\"Item ID\"].value_counts()\n",
    "num_unique = num_diff.count()\n",
    "av_price = purchase_data[\"Price\"].mean()\n",
    "num_purchases = purchase_data[\"Price\"].count\n",
    "total_rev = purchase_data[\"Price\"].sum()\n",
    "summary_two = pd.DataFrame({\"Number of Unique Items\":num_unique, \"Average Price\":av_price, \"Number of Purchases\":num_purchases, \"Total Revenue\":total_rev})"
   ]
  },
  {
   "cell_type": "code",
   "execution_count": null,
   "id": "4083171b",
   "metadata": {},
   "outputs": [],
   "source": []
  }
 ],
 "metadata": {
  "kernelspec": {
   "display_name": "Python [conda env:PythonData]",
   "language": "python",
   "name": "conda-env-PythonData-py"
  },
  "language_info": {
   "codemirror_mode": {
    "name": "ipython",
    "version": 3
   },
   "file_extension": ".py",
   "mimetype": "text/x-python",
   "name": "python",
   "nbconvert_exporter": "python",
   "pygments_lexer": "ipython3",
   "version": "3.6.13"
  }
 },
 "nbformat": 4,
 "nbformat_minor": 5
}
